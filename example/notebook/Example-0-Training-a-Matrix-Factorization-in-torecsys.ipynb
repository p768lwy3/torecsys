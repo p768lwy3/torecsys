{
 "cells": [
  {
   "cell_type": "markdown",
   "metadata": {},
   "source": [
    "# Example 0. Training a Matrix Factorization in ToR[e]cSys"
   ]
  },
  {
   "cell_type": "code",
   "execution_count": 6,
   "metadata": {},
   "outputs": [
    {
     "ename": "ModuleNotFoundError",
     "evalue": "No module named 'torecsys'",
     "output_type": "error",
     "traceback": [
      "\u001b[0;31m---------------------------------------------------------------------------\u001b[0m",
      "\u001b[0;31mModuleNotFoundError\u001b[0m                       Traceback (most recent call last)",
      "\u001b[0;32m<ipython-input-6-37f2a4977e97>\u001b[0m in \u001b[0;36m<module>\u001b[0;34m\u001b[0m\n\u001b[1;32m      3\u001b[0m \u001b[0;32mimport\u001b[0m \u001b[0mtorch\u001b[0m\u001b[0;34m\u001b[0m\u001b[0;34m\u001b[0m\u001b[0m\n\u001b[1;32m      4\u001b[0m \u001b[0;32mimport\u001b[0m \u001b[0mtorch\u001b[0m\u001b[0;34m.\u001b[0m\u001b[0mutils\u001b[0m\u001b[0;34m.\u001b[0m\u001b[0mdata\u001b[0m\u001b[0;34m\u001b[0m\u001b[0;34m\u001b[0m\u001b[0m\n\u001b[0;32m----> 5\u001b[0;31m \u001b[0;32mimport\u001b[0m \u001b[0mtorecsys\u001b[0m \u001b[0;32mas\u001b[0m \u001b[0mtrs\u001b[0m\u001b[0;34m\u001b[0m\u001b[0;34m\u001b[0m\u001b[0m\n\u001b[0m",
      "\u001b[0;31mModuleNotFoundError\u001b[0m: No module named 'torecsys'"
     ]
    }
   ],
   "source": [
    "from functools import partial\n",
    "from sklearn.model_selection import train_test_split\n",
    "import torch\n",
    "import torch.utils.data\n",
    "import torecsys as trs"
   ]
  },
  {
   "cell_type": "code",
   "execution_count": 2,
   "metadata": {},
   "outputs": [],
   "source": [
    "# get samples data from movielens as a example\n",
    "# trs.data.sampledata.download_ml_data(size=\"latest-small\", dir=\"./data\")\n",
    "_, _, ratings_df, _ = trs.data.sampledata.load_ml_data(size=\"latest-small\", force=True)"
   ]
  },
  {
   "cell_type": "code",
   "execution_count": 3,
   "metadata": {},
   "outputs": [],
   "source": [
    "# set hyper-parameters of model\n",
    "user_size = ratings_df.userId.max() + 1\n",
    "item_size = ratings_df.movieId.max() + 1\n",
    "\n",
    "embed_size = 16\n",
    "num_fields = 2"
   ]
  },
  {
   "cell_type": "code",
   "execution_count": 4,
   "metadata": {},
   "outputs": [],
   "source": [
    "# split data into training set and testing set\n",
    "train_df, test_df = train_test_split(ratings_df, test_size=0.1)\n",
    "\n",
    "# define inputs' schema and colleat_fn for dataloader\n",
    "schema = {\n",
    "    \"userId\": [\"user_id\", \"single_index\"],\n",
    "    \"movieId\": [\"movie_id\", \"single_index\"],\n",
    "    \"rating\": [\"labels\", \"values\"]\n",
    "}\n",
    "collate_fn = partial(trs.data.dataloader.dict_collate_fn, schema=schema)\n",
    "\n",
    "# initialize training and testing dataset\n",
    "columns = [\"userId\", \"movieId\", \"rating\"]\n",
    "train_set = trs.data.dataset.DataFrameToDataset(train_df, columns=columns, names=(\"B\", \"N\"))\n",
    "test_set = trs.data.dataset.DataFrameToDataset(test_df, columns=columns, names=(\"B\", \"N\"))\n",
    "\n",
    "# initialize training and testing dataloader\n",
    "train_dl = torch.utils.data.DataLoader(\n",
    "    train_set, batch_size=1024, shuffle=True, \n",
    "    num_workers=0, collate_fn=collate_fn)\n",
    "\n",
    "test_dl = torch.utils.data.DataLoader(\n",
    "    test_set, batch_size=1024, shuffle=False, \n",
    "    num_workers=0, collate_fn=collate_fn)"
   ]
  },
  {
   "cell_type": "code",
   "execution_count": 8,
   "metadata": {},
   "outputs": [
    {
     "name": "stderr",
     "output_type": "stream",
     "text": [
      "c:\\Users\\User\\Desktop\\projects\\torecsys\\torecsys\\utils\\decorator\\decorator.py:41: UserWarning: The module is checked that it is not compatible with torch.jit.trace due to the NamedTensor method. This will be updated to compatibilized when PyTorch update.\n",
      "  \"when PyTorch update.\", UserWarning\n",
      "..\\c10/core/TensorImpl.h:864: UserWarning: Named tensors and all their associated APIs are an experimental feature and subject to change. Please do not use them for anything important until they are released as stable.\n"
     ]
    }
   ],
   "source": [
    "# inititalize embedding fields\n",
    "feat_inputs_embedding = trs.inputs.base.MultiIndicesEmbedding(\n",
    "    1, [user_size, item_size]\n",
    ")\n",
    "\n",
    "# define schema of wrapper and initialize InputsWrapper\n",
    "feat_inputs_embedding.set_schema(inputs=[\"user_id\", \"movie_id\"])\n",
    "\n",
    "# initialize inputs wrapper\n",
    "schema = {\n",
    "    \"emb_inputs\"  : feat_inputs_embedding\n",
    "}"
   ]
  },
  {
   "cell_type": "code",
   "execution_count": null,
   "metadata": {},
   "outputs": [],
   "source": [
    "trainer = trs.trainer.Trainer() \\\n",
    "    .set_model(\"MatrixFactorization\") \\\n",
    "    .set_sequential(inputs) \\\n",
    "    .build_criterion(\"MSELoss\", reduction=\"mean\") \\\n",
    "    .build_optimizer(\"SGD\", lr=1e-4) \\\n",
    "    .set_loader(\"train\", train_dl) \\\n",
    "    .set_loader(\"validate\", test_dl) \\\n",
    "    .set_targets_name(\"labels\") \\\n",
    "    .set_max_num_epochs(10) \\\n",
    "    .set_max_num_iterations(10)"
   ]
  },
  {
   "cell_type": "code",
   "execution_count": 12,
   "metadata": {},
   "outputs": [
    {
     "name": "stdout",
     "output_type": "stream",
     "text": [
      "Epoch 1 / 1:\n",
      "step loss : 58.7626:   0%|          | 0/89 [00:01<?, ?it/s]step avg loss at step 0 of epoch 0 : 0.1175\n",
      "step loss : 55.4865: 100%|██████████| 89/89 [02:17<00:00,  1.21s/it]\n",
      "epoch avg loss : 56.9743\n"
     ]
    }
   ],
   "source": [
    "trainer.fit()"
   ]
  },
  {
   "cell_type": "code",
   "execution_count": null,
   "metadata": {},
   "outputs": [],
   "source": []
  }
 ],
 "metadata": {
  "kernelspec": {
   "display_name": "Python 3",
   "language": "python",
   "name": "python3"
  },
  "language_info": {
   "codemirror_mode": {
    "name": "ipython",
    "version": 3
   },
   "file_extension": ".py",
   "mimetype": "text/x-python",
   "name": "python",
   "nbconvert_exporter": "python",
   "pygments_lexer": "ipython3",
   "version": "3.8.5"
  }
 },
 "nbformat": 4,
 "nbformat_minor": 4
}
