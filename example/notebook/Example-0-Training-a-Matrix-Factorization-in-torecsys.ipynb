{
 "cells": [
  {
   "cell_type": "markdown",
   "metadata": {},
   "source": [
    "# Example 0. Training a Matrix Factorization in ToR[e]cSys"
   ]
  },
  {
   "cell_type": "code",
   "execution_count": 1,
   "metadata": {},
   "outputs": [],
   "source": [
    "from sklearn.model_selection import train_test_split\n",
    "import torch.utils.data\n",
    "import torecsys as trs"
   ]
  },
  {
   "cell_type": "code",
   "execution_count": 2,
   "metadata": {},
   "outputs": [],
   "source": [
    "# get samples data from movielens as a example\n",
    "_, _, ratings_df, _ = trs.data.sample_data.load_ml_data(\n",
    "    size=\"latest-small\", directory=\"./data\", force=True)"
   ]
  },
  {
   "cell_type": "code",
   "execution_count": 3,
   "outputs": [
    {
     "data": {
      "text/plain": "   userId  movieId  rating  timestamp\n0       1        1     4.0  964982703\n1       1        3     4.0  964981247\n2       1        6     4.0  964982224",
      "text/html": "<div>\n<style scoped>\n    .dataframe tbody tr th:only-of-type {\n        vertical-align: middle;\n    }\n\n    .dataframe tbody tr th {\n        vertical-align: top;\n    }\n\n    .dataframe thead th {\n        text-align: right;\n    }\n</style>\n<table border=\"1\" class=\"dataframe\">\n  <thead>\n    <tr style=\"text-align: right;\">\n      <th></th>\n      <th>userId</th>\n      <th>movieId</th>\n      <th>rating</th>\n      <th>timestamp</th>\n    </tr>\n  </thead>\n  <tbody>\n    <tr>\n      <th>0</th>\n      <td>1</td>\n      <td>1</td>\n      <td>4.0</td>\n      <td>964982703</td>\n    </tr>\n    <tr>\n      <th>1</th>\n      <td>1</td>\n      <td>3</td>\n      <td>4.0</td>\n      <td>964981247</td>\n    </tr>\n    <tr>\n      <th>2</th>\n      <td>1</td>\n      <td>6</td>\n      <td>4.0</td>\n      <td>964982224</td>\n    </tr>\n  </tbody>\n</table>\n</div>"
     },
     "execution_count": 3,
     "metadata": {},
     "output_type": "execute_result"
    }
   ],
   "source": [
    "ratings_df.head(3)"
   ],
   "metadata": {
    "collapsed": false,
    "pycharm": {
     "name": "#%%\n"
    }
   }
  },
  {
   "cell_type": "code",
   "execution_count": 4,
   "metadata": {},
   "outputs": [],
   "source": [
    "# set hyperparameters of model\n",
    "user_size = ratings_df.userId.max() + 1\n",
    "item_size = ratings_df.movieId.max() + 1\n",
    "embed_size = 16\n",
    "num_fields = 2"
   ]
  },
  {
   "cell_type": "code",
   "execution_count": 5,
   "outputs": [],
   "source": [
    "# split data into training set and testing set\n",
    "train_df, test_df = train_test_split(ratings_df, test_size=0.1)\n",
    "\n",
    "# initialize training and testing dataset\n",
    "columns = [\"userId\", \"movieId\", \"rating\"]\n",
    "train_set = trs.data.dataset.DataFrameToDataset(train_df, columns=columns)\n",
    "test_set = trs.data.dataset.DataFrameToDataset(test_df, columns=columns)"
   ],
   "metadata": {
    "collapsed": false,
    "pycharm": {
     "name": "#%%\n"
    }
   }
  },
  {
   "cell_type": "code",
   "execution_count": 6,
   "outputs": [],
   "source": [
    "# define inputs' schema and collect_fn for dataloader\n",
    "schema = {\n",
    "    \"user_id\": [\"userId\", \"indices\"],\n",
    "    \"movie_id\": [\"movieId\", \"indices\"],\n",
    "    \"labels\": [\"rating\", \"values\"]\n",
    "}\n",
    "data_loader = trs.data.dataloader.CollateFunction(schema=schema, device='cuda')"
   ],
   "metadata": {
    "collapsed": false,
    "pycharm": {
     "name": "#%%\n"
    }
   }
  },
  {
   "cell_type": "code",
   "execution_count": 7,
   "outputs": [],
   "source": [
    "# initialize training and testing dataloader\n",
    "train_dl = torch.utils.data.DataLoader(\n",
    "    train_set,\n",
    "    batch_size=1024,\n",
    "    shuffle=True,\n",
    "    num_workers=0,\n",
    "    collate_fn=data_loader.to_tensor\n",
    ")\n",
    "\n",
    "test_dl = torch.utils.data.DataLoader(\n",
    "    test_set,\n",
    "    batch_size=64,\n",
    "    shuffle=False,\n",
    "    num_workers=0,\n",
    "    collate_fn=data_loader.to_tensor\n",
    ")"
   ],
   "metadata": {
    "collapsed": false,
    "pycharm": {
     "name": "#%%\n"
    }
   }
  },
  {
   "cell_type": "code",
   "execution_count": 18,
   "metadata": {},
   "outputs": [],
   "source": [
    "# initialize embedding fields\n",
    "feat_inputs_embedding = trs.inputs.base.MultiIndicesEmbedding(\n",
    "    1, [user_size, item_size]\n",
    ")\n",
    "\n",
    "# define schema of wrapper and initialize InputsWrapper\n",
    "feat_inputs_embedding.set_schema(inputs=['user_id', 'movie_id'])\n",
    "\n",
    "# initialize inputs wrapper\n",
    "schema = { 'emb_inputs': feat_inputs_embedding }\n",
    "inputs = trs.inputs.Inputs(schema=schema)"
   ]
  },
  {
   "cell_type": "code",
   "execution_count": null,
   "outputs": [],
   "source": [
    "# TODO: add evaluation methods to pipeline\n",
    "occurrence = dict(ratings_df['movieId'].value_counts())\n",
    "k = 0\n",
    "metric = trs.metrics.Novelty(occurrence=occurrence, k=k, num_users=user_size)"
   ],
   "metadata": {
    "collapsed": false,
    "pycharm": {
     "name": "#%%\n"
    }
   }
  },
  {
   "cell_type": "code",
   "execution_count": 19,
   "outputs": [],
   "source": [
    "pipeline = trs.trainer.TorecsysPipeline() \\\n",
    "    .set_model('MatrixFactorizationModel') \\\n",
    "    .set_inputs(inputs) \\\n",
    "    .set_criterion('MSELoss', reduction='mean') \\\n",
    "    .set_optimizer('SGD', lr=1e-4) \\\n",
    "    .set_target_fields('labels') \\\n",
    "    .build_sequential()"
   ],
   "metadata": {
    "collapsed": false,
    "pycharm": {
     "name": "#%%\n"
    }
   }
  },
  {
   "cell_type": "code",
   "execution_count": 20,
   "outputs": [
    {
     "name": "stdout",
     "output_type": "stream",
     "text": [
      "+------------------------------------------+\n",
      "|     Name                 Value           |\n",
      "| Objective       Click Through Rate       |\n",
      "| Inputs          Inputs                   |\n",
      "| Model           MatrixFactorizationModel |\n",
      "| Reg norm        None                     |\n",
      "| Reg lambda      None                     |\n",
      "| Loss            MSELoss                  |\n",
      "| Optimizer       SGD                      |\n",
      "| Target fields   labels                   |\n",
      "+------------------------------------------+\n"
     ]
    }
   ],
   "source": [
    "print(pipeline.summary())"
   ],
   "metadata": {
    "collapsed": false,
    "pycharm": {
     "name": "#%%\n"
    }
   }
  },
  {
   "cell_type": "code",
   "execution_count": 21,
   "metadata": {},
   "outputs": [
    {
     "name": "stderr",
     "output_type": "stream",
     "text": [
      "GPU available: True, used: True\n",
      "TPU available: False, using: 0 TPU cores\n"
     ]
    }
   ],
   "source": [
    "trainer = trs.trainer.TorecsysTrainer(gpus=1)"
   ]
  },
  {
   "cell_type": "code",
   "execution_count": null,
   "metadata": {
    "pycharm": {
     "is_executing": true
    }
   },
   "outputs": [
    {
     "name": "stderr",
     "output_type": "stream",
     "text": [
      "C:\\Users\\Jasper_Lwy\\Documents\\My Projects\\torecsys\\venv\\lib\\site-packages\\pytorch_lightning\\trainer\\configuration_validator.py:99: UserWarning: you passed in a val_dataloader but have no validation_step. Skipping val loop\n",
      "  rank_zero_warn(f'you passed in a {loader_name} but have no {step_name}. Skipping {stage} loop')\n",
      "LOCAL_RANK: 0 - CUDA_VISIBLE_DEVICES: [0]\n",
      "\n",
      "  | Name        | Type                     | Params\n",
      "---------------------------------------------------------\n",
      "0 | _model      | MatrixFactorizationModel | 0     \n",
      "1 | _inputs     | Inputs                   | 194 K \n",
      "2 | _criterion  | MSELoss                  | 0     \n",
      "3 | _sequential | Sequential               | 194 K \n",
      "---------------------------------------------------------\n",
      "194 K     Trainable params\n",
      "0         Non-trainable params\n",
      "194 K     Total params\n",
      "0.777     Total estimated model params size (MB)\n"
     ]
    },
    {
     "name": "stdout",
     "output_type": "stream",
     "text": [
      "+------------------------------------------+\n",
      "|     Name                 Value           |\n",
      "| Objective       Click Through Rate       |\n",
      "| Inputs          Inputs                   |\n",
      "| Model           MatrixFactorizationModel |\n",
      "| Reg norm        None                     |\n",
      "| Reg lambda      None                     |\n",
      "| Loss            MSELoss                  |\n",
      "| Optimizer       SGD                      |\n",
      "| Target fields   labels                   |\n",
      "+------------------------------------------+\n"
     ]
    },
    {
     "name": "stderr",
     "output_type": "stream",
     "text": [
      "C:\\Users\\Jasper_Lwy\\Documents\\My Projects\\torecsys\\venv\\lib\\site-packages\\pytorch_lightning\\trainer\\data_loading.py:102: UserWarning: The dataloader, train dataloader, does not have many workers which may be a bottleneck. Consider increasing the value of the `num_workers` argument` (try 16 which is the number of cpus on this machine) in the `DataLoader` init to improve performance.\n",
      "  rank_zero_warn(\n"
     ]
    },
    {
     "data": {
      "text/plain": "Training: 0it [00:00, ?it/s]",
      "application/vnd.jupyter.widget-view+json": {
       "version_major": 2,
       "version_minor": 0,
       "model_id": "afbf858d25b9489b86ef80cadaeb11da"
      }
     },
     "metadata": {},
     "output_type": "display_data"
    }
   ],
   "source": [
    "trainer.fit(pipeline, train_dl, test_dl)"
   ]
  },
  {
   "cell_type": "code",
   "execution_count": null,
   "outputs": [],
   "source": [],
   "metadata": {
    "collapsed": false,
    "pycharm": {
     "name": "#%%\n"
    }
   }
  }
 ],
 "metadata": {
  "kernelspec": {
   "display_name": "Python 3",
   "language": "python",
   "name": "python3"
  },
  "language_info": {
   "codemirror_mode": {
    "name": "ipython",
    "version": 3
   },
   "file_extension": ".py",
   "mimetype": "text/x-python",
   "name": "python",
   "nbconvert_exporter": "python",
   "pygments_lexer": "ipython3",
   "version": "3.8.5"
  }
 },
 "nbformat": 4,
 "nbformat_minor": 4
}