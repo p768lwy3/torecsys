{
 "cells": [
  {
   "cell_type": "markdown",
   "metadata": {},
   "source": [
    "# Example. Training a Bayesian Personalized Ranking Matrix Factorization (BPR-MF) in ToR[e]cSys"
   ]
  },
  {
   "cell_type": "code",
   "execution_count": 1,
   "metadata": {},
   "outputs": [],
   "source": [
    "from sklearn.model_selection import train_test_split\n",
    "import torch.utils.data\n",
    "import torecsys as trs"
   ]
  },
  {
   "cell_type": "code",
   "execution_count": 2,
   "metadata": {},
   "outputs": [],
   "source": [
    "# get samples data from movielens as a example\n",
    "# trs.data.sampledata.download_ml_data(size=\"latest-small\", dir=\"./data\")\n",
    "_, _, ratings_df, _ = trs.data.sampledata.load_ml_data(size=\"latest-small\", force=True)"
   ]
  },
  {
   "cell_type": "code",
   "execution_count": 3,
   "metadata": {},
   "outputs": [],
   "source": [
    "user_index_field = trs.data.dataloader.IndexField()\n",
    "movie_index_field = trs.data.dataloader.IndexField()"
   ]
  },
  {
   "cell_type": "code",
   "execution_count": 4,
   "metadata": {},
   "outputs": [],
   "source": [
    "dataloader_collator = trs.data.dataloader.DataloaderCollator(\n",
    "    schema = {\n",
    "        \"userId\": \"indices\",\n",
    "        \"movieId\": \"indices\",\n",
    "        \"rating\" : \"values\"\n",
    "    },\n",
    "    kwargs = {\n",
    "        \"userId\": { \"mapping\": user_index_field },\n",
    "        \"movieId\": { \"mapping\": movie_index_field }\n",
    "    }\n",
    ")"
   ]
  },
  {
   "cell_type": "code",
   "execution_count": 5,
   "metadata": {},
   "outputs": [
    {
     "name": "stdout",
     "output_type": "stream",
     "text": [
      "+-------------------------------------------+\n",
      "| Field Name:    Field Type:    Arguments:  |\n",
      "| userId         indices        mapping     |\n",
      "| movieId        indices        mapping     |\n",
      "| rating         values                     |\n",
      "+-------------------------------------------+\n"
     ]
    },
    {
     "data": {
      "text/plain": [
       "<torecsys.data.dataloader.collate_fn.DataloaderCollator at 0x2c5f32dc188>"
      ]
     },
     "execution_count": 5,
     "metadata": {},
     "output_type": "execute_result"
    }
   ],
   "source": [
    "dataloader_collator.summary()"
   ]
  },
  {
   "cell_type": "code",
   "execution_count": 6,
   "metadata": {},
   "outputs": [],
   "source": [
    "# set hyperparameters of model\n",
    "user_size = ratings_df.userId.max() + 1\n",
    "item_size = ratings_df.movieId.max() + 1\n",
    "\n",
    "embed_size = 16\n",
    "num_fields = 2\n",
    "\n",
    "# split data into training set and testing set\n",
    "train_df, test_df = train_test_split(ratings_df, test_size=0.1)\n",
    "\n",
    "# initialize training and testing dataset\n",
    "columns = [\"userId\", \"movieId\", \"rating\"]\n",
    "train_set = trs.data.dataset.DataFrameToDataset(train_df, columns=columns)\n",
    "test_set = trs.data.dataset.DataFrameToDataset(test_df, columns=columns)\n",
    "\n",
    "# initialize training and testing dataloader\n",
    "train_dl = torch.utils.data.DataLoader(\n",
    "    train_set, batch_size=2, shuffle=False, \n",
    "    num_workers=0, collate_fn=dataloader_collator.to_tensor)\n",
    "\n",
    "test_dl = torch.utils.data.DataLoader(\n",
    "    test_set, batch_size=2, shuffle=False, \n",
    "    num_workers=0, collate_fn=dataloader_collator.to_tensor)"
   ]
  },
  {
   "cell_type": "code",
   "execution_count": 7,
   "metadata": {},
   "outputs": [
    {
     "name": "stderr",
     "output_type": "stream",
     "text": [
      "C:\\Users\\p768l\\Documents\\Project\\torecsys\\torecsys\\utils\\decorator.py:38: UserWarning: The module is checked that it is not compatible with torch.jit.trace due to the NamedTensor method. This will be updated to compatibilized when PyTorch update.\n",
      "  \"when PyTorch update.\", UserWarning\n",
      "..\\c10/core/TensorImpl.h:864: UserWarning: Named tensors and all their associated APIs are an experimental feature and subject to change. Please do not use them for anything important until they are released as stable.\n"
     ]
    }
   ],
   "source": [
    "# initialize embedding fields\n",
    "feat_inputs_embedding = trs.inputs.base.MultiIndicesEmbedding(\n",
    "    1, [user_size, item_size]\n",
    ")\n",
    "\n",
    "# define schema of wrapper and initialize InputsWrapper\n",
    "feat_inputs_embedding.set_schema(inputs=[\"userId\", \"movieId\"])\n",
    "\n",
    "# initialize inputs wrapper\n",
    "schema = {\n",
    "    \"emb_inputs\" : feat_inputs_embedding\n",
    "}\n",
    "inputs = trs.inputs.Inputs(schema)"
   ]
  },
  {
   "cell_type": "code",
   "execution_count": 8,
   "metadata": {},
   "outputs": [],
   "source": [
    "trainer = trs.trainer.TorecsysTrainer() \\\n",
    "    .set_objective(\"LearningToRank\") \\\n",
    "    .set_inputs(inputs) \\\n",
    "    .set_model(\"MatrixFactorizationModel\") \\\n",
    "    .set_sequential() \\\n",
    "    .build_negative_sampler(\n",
    "        \"UniformSampler\", with_replacement=True, user_id={\"high\": 100, \"low\": 1}) \\\n",
    "    .build_criterion(\"BayesianPersonalizedRankingLoss\", reduction=\"mean\") \\\n",
    "    .build_optimizer(\"SGD\", lr=1e-4) \\\n",
    "    .set_loader(\"train\", train_dl) \\\n",
    "    .set_loader(\"eval\", test_dl) \\\n",
    "    .set_negative_size(10) \\\n",
    "    .set_max_num_epochs(10) \\\n",
    "    .set_max_num_iterations(10)"
   ]
  },
  {
   "cell_type": "code",
   "execution_count": 9,
   "metadata": {},
   "outputs": [
    {
     "name": "stdout",
     "output_type": "stream",
     "text": [
      "+----------------------------------------------------+\n",
      "|      Name:                     Value:              |\n",
      "| Objective          learningtorank                  |\n",
      "| Inputs             InputsWrapper                   |\n",
      "| Model              MatrixFactorizationModel        |\n",
      "| Loss               BayesianPersonalizedRankingLoss |\n",
      "| Optimizer          SGD                             |\n",
      "| Num of epochs      10                              |\n",
      "| Log directory      {}                              |\n",
      "| Negative sampler   UniformSampler                  |\n",
      "| Negative size      10                              |\n",
      "+----------------------------------------------------+\n"
     ]
    },
    {
     "data": {
      "text/plain": [
       "<torecsys.trainer.trainer.Trainer at 0x2c5f34c6dc8>"
      ]
     },
     "execution_count": 9,
     "metadata": {},
     "output_type": "execute_result"
    }
   ],
   "source": [
    "trainer.summary()"
   ]
  },
  {
   "cell_type": "code",
   "execution_count": 10,
   "metadata": {},
   "outputs": [
    {
     "data": {
      "application/vnd.jupyter.widget-view+json": {
       "model_id": "f047ee141a8e4a28b63fb7e719155345",
       "version_major": 2,
       "version_minor": 0
      },
      "text/plain": [
       "HBox(children=(FloatProgress(value=0.0, description='Current Mode: train, Step Loss: ?', max=10.0, style=Progr…"
      ]
     },
     "metadata": {},
     "output_type": "display_data"
    },
    {
     "name": "stdout",
     "output_type": "stream",
     "text": [
      "\n"
     ]
    },
    {
     "data": {
      "application/vnd.jupyter.widget-view+json": {
       "model_id": "10aa2db1446a4ce191f86ad429c0998c",
       "version_major": 2,
       "version_minor": 0
      },
      "text/plain": [
       "HBox(children=(FloatProgress(value=0.0, description='Current Mode: eval, Step Loss: ?', max=10.0, style=Progre…"
      ]
     },
     "metadata": {},
     "output_type": "display_data"
    },
    {
     "name": "stdout",
     "output_type": "stream",
     "text": [
      "\n"
     ]
    },
    {
     "data": {
      "application/vnd.jupyter.widget-view+json": {
       "model_id": "0c8f36ba06a24affb2eed4dfbb177d2e",
       "version_major": 2,
       "version_minor": 0
      },
      "text/plain": [
       "HBox(children=(FloatProgress(value=0.0, description='Current Mode: train, Step Loss: ?', max=10.0, style=Progr…"
      ]
     },
     "metadata": {},
     "output_type": "display_data"
    },
    {
     "name": "stdout",
     "output_type": "stream",
     "text": [
      "\n"
     ]
    },
    {
     "data": {
      "application/vnd.jupyter.widget-view+json": {
       "model_id": "7e4f494e5c504ee88934b78478b49252",
       "version_major": 2,
       "version_minor": 0
      },
      "text/plain": [
       "HBox(children=(FloatProgress(value=0.0, description='Current Mode: eval, Step Loss: ?', max=10.0, style=Progre…"
      ]
     },
     "metadata": {},
     "output_type": "display_data"
    },
    {
     "name": "stdout",
     "output_type": "stream",
     "text": [
      "\n"
     ]
    },
    {
     "data": {
      "application/vnd.jupyter.widget-view+json": {
       "model_id": "afdce7ef35b44b54ab4f14eded5706bd",
       "version_major": 2,
       "version_minor": 0
      },
      "text/plain": [
       "HBox(children=(FloatProgress(value=0.0, description='Current Mode: train, Step Loss: ?', max=10.0, style=Progr…"
      ]
     },
     "metadata": {},
     "output_type": "display_data"
    },
    {
     "name": "stdout",
     "output_type": "stream",
     "text": [
      "\n"
     ]
    },
    {
     "data": {
      "application/vnd.jupyter.widget-view+json": {
       "model_id": "65f91086181f4b93936d91a197fc4b59",
       "version_major": 2,
       "version_minor": 0
      },
      "text/plain": [
       "HBox(children=(FloatProgress(value=0.0, description='Current Mode: eval, Step Loss: ?', max=10.0, style=Progre…"
      ]
     },
     "metadata": {},
     "output_type": "display_data"
    },
    {
     "name": "stdout",
     "output_type": "stream",
     "text": [
      "\n"
     ]
    },
    {
     "data": {
      "application/vnd.jupyter.widget-view+json": {
       "model_id": "67977d71838d4bcc87d3c4ac2de14872",
       "version_major": 2,
       "version_minor": 0
      },
      "text/plain": [
       "HBox(children=(FloatProgress(value=0.0, description='Current Mode: train, Step Loss: ?', max=10.0, style=Progr…"
      ]
     },
     "metadata": {},
     "output_type": "display_data"
    },
    {
     "name": "stdout",
     "output_type": "stream",
     "text": [
      "\n"
     ]
    },
    {
     "data": {
      "application/vnd.jupyter.widget-view+json": {
       "model_id": "169339af29a64b45b00e45bf1c16353e",
       "version_major": 2,
       "version_minor": 0
      },
      "text/plain": [
       "HBox(children=(FloatProgress(value=0.0, description='Current Mode: eval, Step Loss: ?', max=10.0, style=Progre…"
      ]
     },
     "metadata": {},
     "output_type": "display_data"
    },
    {
     "name": "stdout",
     "output_type": "stream",
     "text": [
      "\n"
     ]
    },
    {
     "data": {
      "application/vnd.jupyter.widget-view+json": {
       "model_id": "5c9ca26fc98049e18078b7fb5adbd138",
       "version_major": 2,
       "version_minor": 0
      },
      "text/plain": [
       "HBox(children=(FloatProgress(value=0.0, description='Current Mode: train, Step Loss: ?', max=10.0, style=Progr…"
      ]
     },
     "metadata": {},
     "output_type": "display_data"
    },
    {
     "name": "stdout",
     "output_type": "stream",
     "text": [
      "\n"
     ]
    },
    {
     "data": {
      "application/vnd.jupyter.widget-view+json": {
       "model_id": "a6dc1ff9c4264df0a54b1925cc4324cb",
       "version_major": 2,
       "version_minor": 0
      },
      "text/plain": [
       "HBox(children=(FloatProgress(value=0.0, description='Current Mode: eval, Step Loss: ?', max=10.0, style=Progre…"
      ]
     },
     "metadata": {},
     "output_type": "display_data"
    },
    {
     "name": "stdout",
     "output_type": "stream",
     "text": [
      "\n"
     ]
    },
    {
     "data": {
      "application/vnd.jupyter.widget-view+json": {
       "model_id": "40452d1836724996b49c9069c874b5a1",
       "version_major": 2,
       "version_minor": 0
      },
      "text/plain": [
       "HBox(children=(FloatProgress(value=0.0, description='Current Mode: train, Step Loss: ?', max=10.0, style=Progr…"
      ]
     },
     "metadata": {},
     "output_type": "display_data"
    },
    {
     "name": "stdout",
     "output_type": "stream",
     "text": [
      "\n"
     ]
    },
    {
     "data": {
      "application/vnd.jupyter.widget-view+json": {
       "model_id": "82d432f7646a4365b0ab50bc593f3f13",
       "version_major": 2,
       "version_minor": 0
      },
      "text/plain": [
       "HBox(children=(FloatProgress(value=0.0, description='Current Mode: eval, Step Loss: ?', max=10.0, style=Progre…"
      ]
     },
     "metadata": {},
     "output_type": "display_data"
    },
    {
     "name": "stdout",
     "output_type": "stream",
     "text": [
      "\n"
     ]
    },
    {
     "data": {
      "application/vnd.jupyter.widget-view+json": {
       "model_id": "fc4a19d76f77407a8586451e24f57638",
       "version_major": 2,
       "version_minor": 0
      },
      "text/plain": [
       "HBox(children=(FloatProgress(value=0.0, description='Current Mode: train, Step Loss: ?', max=10.0, style=Progr…"
      ]
     },
     "metadata": {},
     "output_type": "display_data"
    },
    {
     "name": "stdout",
     "output_type": "stream",
     "text": [
      "\n"
     ]
    },
    {
     "data": {
      "application/vnd.jupyter.widget-view+json": {
       "model_id": "402bd16721e84a5b8edd98ec23a68bd4",
       "version_major": 2,
       "version_minor": 0
      },
      "text/plain": [
       "HBox(children=(FloatProgress(value=0.0, description='Current Mode: eval, Step Loss: ?', max=10.0, style=Progre…"
      ]
     },
     "metadata": {},
     "output_type": "display_data"
    },
    {
     "name": "stdout",
     "output_type": "stream",
     "text": [
      "\n"
     ]
    },
    {
     "data": {
      "application/vnd.jupyter.widget-view+json": {
       "model_id": "d4cf9bedae3c42a9b966dcfbb0935538",
       "version_major": 2,
       "version_minor": 0
      },
      "text/plain": [
       "HBox(children=(FloatProgress(value=0.0, description='Current Mode: train, Step Loss: ?', max=10.0, style=Progr…"
      ]
     },
     "metadata": {},
     "output_type": "display_data"
    },
    {
     "name": "stdout",
     "output_type": "stream",
     "text": [
      "\n"
     ]
    },
    {
     "data": {
      "application/vnd.jupyter.widget-view+json": {
       "model_id": "2a40cffabec84e46b098b83f1e9bcbf7",
       "version_major": 2,
       "version_minor": 0
      },
      "text/plain": [
       "HBox(children=(FloatProgress(value=0.0, description='Current Mode: eval, Step Loss: ?', max=10.0, style=Progre…"
      ]
     },
     "metadata": {},
     "output_type": "display_data"
    },
    {
     "name": "stdout",
     "output_type": "stream",
     "text": [
      "\n"
     ]
    },
    {
     "data": {
      "application/vnd.jupyter.widget-view+json": {
       "model_id": "18b56fc9318a4071b746fb6e7035fafc",
       "version_major": 2,
       "version_minor": 0
      },
      "text/plain": [
       "HBox(children=(FloatProgress(value=0.0, description='Current Mode: train, Step Loss: ?', max=10.0, style=Progr…"
      ]
     },
     "metadata": {},
     "output_type": "display_data"
    },
    {
     "name": "stdout",
     "output_type": "stream",
     "text": [
      "\n"
     ]
    },
    {
     "data": {
      "application/vnd.jupyter.widget-view+json": {
       "model_id": "761e0448419447959bea4d4567e0a8df",
       "version_major": 2,
       "version_minor": 0
      },
      "text/plain": [
       "HBox(children=(FloatProgress(value=0.0, description='Current Mode: eval, Step Loss: ?', max=10.0, style=Progre…"
      ]
     },
     "metadata": {},
     "output_type": "display_data"
    },
    {
     "name": "stdout",
     "output_type": "stream",
     "text": [
      "\n"
     ]
    },
    {
     "data": {
      "application/vnd.jupyter.widget-view+json": {
       "model_id": "9a1b8687c89c485cbb44fe6c85ce5c87",
       "version_major": 2,
       "version_minor": 0
      },
      "text/plain": [
       "HBox(children=(FloatProgress(value=0.0, description='Current Mode: train, Step Loss: ?', max=10.0, style=Progr…"
      ]
     },
     "metadata": {},
     "output_type": "display_data"
    },
    {
     "name": "stdout",
     "output_type": "stream",
     "text": [
      "\n"
     ]
    },
    {
     "data": {
      "application/vnd.jupyter.widget-view+json": {
       "model_id": "d312256083bb417695bd9a884aa54448",
       "version_major": 2,
       "version_minor": 0
      },
      "text/plain": [
       "HBox(children=(FloatProgress(value=0.0, description='Current Mode: eval, Step Loss: ?', max=10.0, style=Progre…"
      ]
     },
     "metadata": {},
     "output_type": "display_data"
    },
    {
     "name": "stdout",
     "output_type": "stream",
     "text": [
      "\n"
     ]
    }
   ],
   "source": [
    "trainer.fit()"
   ]
  },
  {
   "cell_type": "code",
   "execution_count": null,
   "metadata": {},
   "outputs": [],
   "source": []
  }
 ],
 "metadata": {
  "kernelspec": {
   "display_name": "Python 3",
   "language": "python",
   "name": "python3"
  },
  "language_info": {
   "codemirror_mode": {
    "name": "ipython",
    "version": 3
   },
   "file_extension": ".py",
   "mimetype": "text/x-python",
   "name": "python",
   "nbconvert_exporter": "python",
   "pygments_lexer": "ipython3",
   "version": "3.8.5"
  }
 },
 "nbformat": 4,
 "nbformat_minor": 4
}